{
 "cells": [
  {
   "cell_type": "code",
   "execution_count": null,
   "metadata": {},
   "outputs": [],
   "source": []
  },
  {
   "cell_type": "markdown",
   "metadata": {},
   "source": [
    "- Import Dependencies"
   ]
  },
  {
   "cell_type": "code",
   "execution_count": 4,
   "metadata": {},
   "outputs": [
    {
     "name": "stderr",
     "output_type": "stream",
     "text": [
      "c:\\Users\\simon\\iCloudDrive\\Downloads\\Projects\\Project_Apollo\\Pro_Humber\\Semester04\\Deep Learning - ITE-5410\\local_lab\\Linear_regression\\env\\lib\\site-packages\\torch\\nn\\modules\\transformer.py:20: UserWarning: Failed to initialize NumPy: No module named 'numpy' (Triggered internally at C:\\actions-runner\\_work\\pytorch\\pytorch\\builder\\windows\\pytorch\\torch\\csrc\\utils\\tensor_numpy.cpp:84.)\n",
      "  device: torch.device = torch.device(torch._C._get_default_device()),  # torch.device('cpu'),\n"
     ]
    }
   ],
   "source": [
    "import torch        # import torch library."
   ]
  },
  {
   "cell_type": "markdown",
   "metadata": {},
   "source": [
    "- Prepare dataset\n",
    "\n",
    "  - For linear regression, we take `y = 3x + 1`\n",
    "  - Appart from the features and labels, some noise is needed.\n",
    "    - `y = 3x + 1 + b`, where `b` stands for bias.\n",
    "\n",
    "- `tensor`\n",
    "\n",
    "  - a fundamental data structure. It is a multi-dimensional array that can contain numerical data\n",
    "  - A tensor is similar to an array or matrix\n",
    "\n",
    "- Types of tensor\n",
    "  - A `scalar` is a 0-dimensional tensor (a **single number**).\n",
    "  - A `vector` is a **1-dimensional** tensor.\n",
    "  - A `matrix` is a **2-dimensional** tensor.\n",
    "  - Tensors with more than two dimensions are often referred to as `n-dimensional tensors` or simply `tensors`.\n"
   ]
  },
  {
   "cell_type": "markdown",
   "metadata": {},
   "source": [
    "- `manual_seed(seed)`:\n",
    "\n",
    "  - Sets the seed for generating random numbers.\n",
    "  - Parameter:\n",
    "    - `seed`: The desired seed.\n",
    "  - Returns:\n",
    "    - a `torch.Generator` object.\n",
    "\n",
    "- In deep learning, it's common to use random initialization for parameters, and setting the seed allows you to **obtain the same set of random numbers** each time you run your code. This is important for `reproducibility`, especially when you are developing and testing models, as it **helps to eliminate randomness as a factor** when comparing results between different runs.\n"
   ]
  },
  {
   "cell_type": "markdown",
   "metadata": {},
   "source": [
    "- `torch.rand(size)` :\n",
    "  - Returns a **tensor filled with random numbers** from a **uniform distribution** on the interval `[0,1)`\n",
    "  - Parameter:\n",
    "    - `size`: a sequence of integers defining the shape of the output tensor.\n",
    "      - e.g.:\n",
    "        - `4`: a row of 4 random numbers\n",
    "        - `(2,3)`: 2 rows of random numbers, and 3 numbers per row.\n",
    "  - Return:\n",
    "    - `torch.Tensor`\n"
   ]
  },
  {
   "cell_type": "code",
   "execution_count": 5,
   "metadata": {},
   "outputs": [],
   "source": [
    "# Prepare dataset\n",
    "torch.manual_seed(42)  # Sets the seed for generating random numbers.\n",
    "\n",
    "X = 2 * torch.rand(100, 1)  # 100 samples, 1 feature, 100 rows of sample\n",
    "y = 3 * X + 1 + 0.1 * torch.randn(100, 1)  # true relationship with some noise"
   ]
  },
  {
   "cell_type": "code",
   "execution_count": 6,
   "metadata": {},
   "outputs": [
    {
     "name": "stdout",
     "output_type": "stream",
     "text": [
      "tensor([[1.7645],\n",
      "        [1.8300],\n",
      "        [0.7657],\n",
      "        [1.9186],\n",
      "        [0.7809],\n",
      "        [1.2018],\n",
      "        [0.5131],\n",
      "        [1.5873],\n",
      "        [1.8815],\n",
      "        [0.2664],\n",
      "        [1.8692],\n",
      "        [1.1872],\n",
      "        [1.7388],\n",
      "        [1.1354],\n",
      "        [1.4822],\n",
      "        [0.8588],\n",
      "        [1.7709],\n",
      "        [1.1478],\n",
      "        [0.5332],\n",
      "        [1.2549],\n",
      "        [0.5393],\n",
      "        [0.8827],\n",
      "        [0.5938],\n",
      "        [1.6634],\n",
      "        [0.2106],\n",
      "        [0.5390],\n",
      "        [0.7176],\n",
      "        [0.3987],\n",
      "        [1.0944],\n",
      "        [0.0123],\n",
      "        [1.9031],\n",
      "        [0.1505],\n",
      "        [1.7720],\n",
      "        [1.1664],\n",
      "        [0.6753],\n",
      "        [1.6179],\n",
      "        [1.1559],\n",
      "        [1.8080],\n",
      "        [1.1093],\n",
      "        [0.6846],\n",
      "        [1.2687],\n",
      "        [0.7288],\n",
      "        [1.4209],\n",
      "        [1.8928],\n",
      "        [1.5781],\n",
      "        [0.5628],\n",
      "        [1.5773],\n",
      "        [1.1789],\n",
      "        [1.5078],\n",
      "        [0.3905],\n",
      "        [0.0101],\n",
      "        [0.6136],\n",
      "        [0.2330],\n",
      "        [1.8205],\n",
      "        [1.2880],\n",
      "        [1.4142],\n",
      "        [1.3163],\n",
      "        [0.9826],\n",
      "        [1.7826],\n",
      "        [0.2895],\n",
      "        [1.0630],\n",
      "        [0.3175],\n",
      "        [1.3084],\n",
      "        [0.6556],\n",
      "        [1.3064],\n",
      "        [0.7917],\n",
      "        [1.8294],\n",
      "        [0.4073],\n",
      "        [0.4036],\n",
      "        [0.4036],\n",
      "        [1.8994],\n",
      "        [1.3333],\n",
      "        [1.9623],\n",
      "        [0.1747],\n",
      "        [0.0081],\n",
      "        [0.2176],\n",
      "        [0.3273],\n",
      "        [1.4050],\n",
      "        [1.3581],\n",
      "        [1.8309],\n",
      "        [0.4836],\n",
      "        [0.3183],\n",
      "        [1.5306],\n",
      "        [0.5958],\n",
      "        [1.6069],\n",
      "        [0.7627],\n",
      "        [1.5720],\n",
      "        [0.2230],\n",
      "        [0.4954],\n",
      "        [1.3049],\n",
      "        [1.2114],\n",
      "        [0.7450],\n",
      "        [1.5961],\n",
      "        [1.6798],\n",
      "        [0.2748],\n",
      "        [0.4661],\n",
      "        [1.9157],\n",
      "        [0.6626],\n",
      "        [0.6455],\n",
      "        [0.0324]])\n"
     ]
    }
   ],
   "source": [
    "print(X)"
   ]
  },
  {
   "cell_type": "code",
   "execution_count": 7,
   "metadata": {},
   "outputs": [
    {
     "name": "stdout",
     "output_type": "stream",
     "text": [
      "tensor([[6.3577],\n",
      "        [6.5483],\n",
      "        [3.4039],\n",
      "        [6.7108],\n",
      "        [3.2748],\n",
      "        [4.6628],\n",
      "        [2.5582],\n",
      "        [5.7261],\n",
      "        [6.6711],\n",
      "        [1.9264],\n",
      "        [6.6075],\n",
      "        [4.5311],\n",
      "        [6.1178],\n",
      "        [4.4186],\n",
      "        [5.4816],\n",
      "        [3.6382],\n",
      "        [6.3853],\n",
      "        [4.4525],\n",
      "        [2.5606],\n",
      "        [4.8175],\n",
      "        [2.7209],\n",
      "        [3.5777],\n",
      "        [2.8828],\n",
      "        [5.9570],\n",
      "        [1.7414],\n",
      "        [2.6510],\n",
      "        [3.2249],\n",
      "        [2.2373],\n",
      "        [4.2258],\n",
      "        [1.0876],\n",
      "        [6.6618],\n",
      "        [1.4024],\n",
      "        [6.3025],\n",
      "        [4.6628],\n",
      "        [3.0914],\n",
      "        [5.9115],\n",
      "        [4.4315],\n",
      "        [6.4178],\n",
      "        [4.3353],\n",
      "        [3.1357],\n",
      "        [4.7685],\n",
      "        [3.2898],\n",
      "        [5.1939],\n",
      "        [6.7421],\n",
      "        [5.7559],\n",
      "        [2.6838],\n",
      "        [5.5884],\n",
      "        [4.4801],\n",
      "        [5.5505],\n",
      "        [2.1504],\n",
      "        [0.9570],\n",
      "        [2.8513],\n",
      "        [1.8031],\n",
      "        [6.4216],\n",
      "        [4.6348],\n",
      "        [5.2924],\n",
      "        [4.7008],\n",
      "        [3.9061],\n",
      "        [6.2283],\n",
      "        [1.9497],\n",
      "        [4.1583],\n",
      "        [1.9194],\n",
      "        [4.8270],\n",
      "        [2.9863],\n",
      "        [4.9479],\n",
      "        [3.3019],\n",
      "        [6.5057],\n",
      "        [2.1125],\n",
      "        [2.3071],\n",
      "        [2.1797],\n",
      "        [6.7554],\n",
      "        [5.1115],\n",
      "        [6.7321],\n",
      "        [1.5998],\n",
      "        [1.1019],\n",
      "        [1.8556],\n",
      "        [2.0801],\n",
      "        [5.1511],\n",
      "        [5.0251],\n",
      "        [6.5136],\n",
      "        [2.3575],\n",
      "        [1.7958],\n",
      "        [5.4781],\n",
      "        [2.7351],\n",
      "        [5.8048],\n",
      "        [3.2456],\n",
      "        [5.8106],\n",
      "        [1.6506],\n",
      "        [2.5921],\n",
      "        [4.9355],\n",
      "        [4.5764],\n",
      "        [3.2677],\n",
      "        [5.8144],\n",
      "        [5.9634],\n",
      "        [1.6199],\n",
      "        [2.2455],\n",
      "        [6.7875],\n",
      "        [3.0509],\n",
      "        [2.9677],\n",
      "        [1.0939]])\n"
     ]
    }
   ],
   "source": [
    "print(y)"
   ]
  },
  {
   "cell_type": "markdown",
   "metadata": {},
   "source": [
    "- `torch.randn(size, requires_grad=False)` :\n",
    "  - Returns a tensor filled with random numbers from a normal distribution with mean 0 and variance 1 (also called the standard normal distribution).\n",
    "  - Parameter:\n",
    "    - `size`: a sequence of integers defining the shape of the output tensor.\n",
    "      - e.g.:\n",
    "        - `4`: a row of 4 random numbers\n",
    "        - `(2,3)`: 2 rows of random numbers, and 3 numbers per row.\n",
    "    - `requires_grad`:\n",
    "      - Default: `False`.\n",
    "      - If autograd should record operations on the returned tensor. If true, model will track operations on this tensor for automatic differentiation.\n",
    "  - Return:\n",
    "    - `torch.Tensor`\n"
   ]
  },
  {
   "cell_type": "markdown",
   "metadata": {},
   "source": [
    "- Initialize model parameters\n",
    "  - To initialize the parameter, we assign a random number as the init parameters for weight and bias.\n",
    "  - Since we are wokring on a `y = 3x + 1`, we only have 1 feature and 1 bias. Therefore, the size of w, b are `1`.\n",
    "  - We need to gradient the w and b, thus `requires_grad` need to be `true`.\n"
   ]
  },
  {
   "cell_type": "code",
   "execution_count": 11,
   "metadata": {},
   "outputs": [
    {
     "name": "stdout",
     "output_type": "stream",
     "text": [
      "tensor([0.2469], requires_grad=True)\n",
      "tensor([0.0324], requires_grad=True)\n"
     ]
    }
   ],
   "source": [
    "\n",
    "# Initialize model parameters (weights and bias)\n",
    "w = torch.randn(1, requires_grad=True)\n",
    "b = torch.randn(1, requires_grad=True)\n",
    "\n",
    "print(w)\n",
    "print(b)\n"
   ]
  },
  {
   "cell_type": "markdown",
   "metadata": {},
   "source": [
    "\n"
   ]
  },
  {
   "cell_type": "code",
   "execution_count": 9,
   "metadata": {},
   "outputs": [
    {
     "ename": "RuntimeError",
     "evalue": "mat2 must be a matrix",
     "output_type": "error",
     "traceback": [
      "\u001b[1;31m---------------------------------------------------------------------------\u001b[0m",
      "\u001b[1;31mRuntimeError\u001b[0m                              Traceback (most recent call last)",
      "Cell \u001b[1;32mIn[9], line 8\u001b[0m\n\u001b[0;32m      5\u001b[0m \u001b[38;5;66;03m# Training the model\u001b[39;00m\n\u001b[0;32m      6\u001b[0m \u001b[38;5;28;01mfor\u001b[39;00m epoch \u001b[38;5;129;01min\u001b[39;00m \u001b[38;5;28mrange\u001b[39m(num_epochs):\n\u001b[0;32m      7\u001b[0m     \u001b[38;5;66;03m# Forward pass\u001b[39;00m\n\u001b[1;32m----> 8\u001b[0m     y_pred \u001b[38;5;241m=\u001b[39m \u001b[43mX\u001b[49m\u001b[38;5;241;43m.\u001b[39;49m\u001b[43mmm\u001b[49m\u001b[43m(\u001b[49m\u001b[43mw\u001b[49m\u001b[43m)\u001b[49m \u001b[38;5;241m+\u001b[39m b  \u001b[38;5;66;03m# X * w + b\u001b[39;00m\n\u001b[0;32m     10\u001b[0m     \u001b[38;5;66;03m# Calculate the loss (Mean Squared Error)\u001b[39;00m\n\u001b[0;32m     11\u001b[0m     loss \u001b[38;5;241m=\u001b[39m ((y_pred \u001b[38;5;241m-\u001b[39m y)\u001b[38;5;241m.\u001b[39mpow(\u001b[38;5;241m2\u001b[39m))\u001b[38;5;241m.\u001b[39mmean()\n",
      "\u001b[1;31mRuntimeError\u001b[0m: mat2 must be a matrix"
     ]
    }
   ],
   "source": [
    "\n",
    "# Hyperparameters\n",
    "learning_rate = 0.01\n",
    "num_epochs = 1000\n",
    "\n",
    "# Training the model\n",
    "for epoch in range(num_epochs):\n",
    "    # Forward pass\n",
    "    y_pred = X.mm(w) + b  # X * w + b\n",
    "\n",
    "    # Calculate the loss (Mean Squared Error)\n",
    "    loss = ((y_pred - y).pow(2)).mean()\n",
    "\n",
    "    # Backward pass\n",
    "    loss.backward()\n",
    "\n",
    "    # Update parameters using gradient descent\n",
    "    with torch.no_grad():\n",
    "        w -= learning_rate * w.grad\n",
    "        b -= learning_rate * b.grad\n",
    "\n",
    "        # Zero the gradients for the next iteration\n",
    "        w.grad.zero_()\n",
    "        b.grad.zero_()\n",
    "\n",
    "    # Print the loss every 100 epochs\n",
    "    if (epoch + 1) % 100 == 0:\n",
    "        print(f'Epoch [{epoch+1}/{num_epochs}], Loss: {loss.item():.4f}')\n",
    "\n",
    "# After training, you can use the learned parameters to make predictions\n",
    "# For example, predict the value for a new input\n",
    "new_input = torch.tensor([[2.5]])  # a new input\n",
    "predicted_output = new_input.mm(w) + b\n",
    "print(f'Predicted output for input {new_input.item()}: {predicted_output.item()}')"
   ]
  }
 ],
 "metadata": {
  "kernelspec": {
   "display_name": "env",
   "language": "python",
   "name": "python3"
  },
  "language_info": {
   "codemirror_mode": {
    "name": "ipython",
    "version": 3
   },
   "file_extension": ".py",
   "mimetype": "text/x-python",
   "name": "python",
   "nbconvert_exporter": "python",
   "pygments_lexer": "ipython3",
   "version": "3.9.18"
  }
 },
 "nbformat": 4,
 "nbformat_minor": 2
}
